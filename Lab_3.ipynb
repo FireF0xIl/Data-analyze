{
 "cells": [
  {
   "cell_type": "code",
   "execution_count": 1,
   "outputs": [
    {
     "data": {
      "text/plain": "                     org_id  rating    ts  user_city  org_city  rating_org  \\\n0      11946401375069641937     4.0   677          1         1    3.883212   \n1       5545859981678495568     5.0   577          1         1    4.495379   \n2       3451485117888180206     4.0   716          1         1    4.576063   \n3       9490041040735762889     3.0   639          0         0    3.775701   \n4       5234254278902729372     5.0   669          1         1    4.187500   \n...                     ...     ...   ...        ...       ...         ...   \n73990   2948132663120061820     2.0   517          1         1    4.280632   \n73991  13225228120465186798     5.0   455          1         1    4.446033   \n73992   1135274990644701922     5.0  1032          1         1    4.420231   \n73993   2498968754330575170     5.0    27          1         1    4.694307   \n73994  10310753822165626445     5.0   699          0         0    4.485873   \n\n       rubrics  food_delivery  breakfast  takeaway  ...  call_button  \\\n0            0              1          1         1  ...            0   \n1            0              1          0         1  ...            0   \n2            1              1          1         1  ...            0   \n3            1              1          1         1  ...            0   \n4           10              1          1         1  ...            0   \n...        ...            ...        ...       ...  ...          ...   \n73990        7              1          1         0  ...            0   \n73991        0              0          0         0  ...            0   \n73992        5              1          1         1  ...            0   \n73993        1              0          0         0  ...            0   \n73994        1              0          0         0  ...            0   \n\n       table_games  vinotheque  cakes_for_different_occasions  \\\n0                0           0                              0   \n1                0           0                              0   \n2                0           0                              0   \n3                0           0                              0   \n4                0           0                              0   \n...            ...         ...                            ...   \n73990            0           0                              0   \n73991            0           0                              0   \n73992            0           0                              0   \n73993            0           0                              0   \n73994            0           0                              0   \n\n       accepted_credit_cards  kalyan  teahouse  bread_from_tandoor  \\\n0                          0       0         0                   0   \n1                          0       0         0                   0   \n2                          0       0         0                   0   \n3                          0       0         0                   0   \n4                          0       0         0                   0   \n...                      ...     ...       ...                 ...   \n73990                      0       0         0                   0   \n73991                      0       0         0                   0   \n73992                      0       0         0                   0   \n73993                      0       0         0                   0   \n73994                      0       0         0                   0   \n\n       handmade_goods      test  \n0                   0 -0.038254  \n1                   0  0.232432  \n2                   0 -0.105691  \n3                   0 -0.097261  \n4                   0  0.138769  \n...               ...       ...  \n73990               0 -0.426018  \n73991               0  0.054472  \n73992               0  0.335461  \n73993               0 -0.059930  \n73994               0 -0.059930  \n\n[73995 rows x 64 columns]",
      "text/html": "<div>\n<style scoped>\n    .dataframe tbody tr th:only-of-type {\n        vertical-align: middle;\n    }\n\n    .dataframe tbody tr th {\n        vertical-align: top;\n    }\n\n    .dataframe thead th {\n        text-align: right;\n    }\n</style>\n<table border=\"1\" class=\"dataframe\">\n  <thead>\n    <tr style=\"text-align: right;\">\n      <th></th>\n      <th>org_id</th>\n      <th>rating</th>\n      <th>ts</th>\n      <th>user_city</th>\n      <th>org_city</th>\n      <th>rating_org</th>\n      <th>rubrics</th>\n      <th>food_delivery</th>\n      <th>breakfast</th>\n      <th>takeaway</th>\n      <th>...</th>\n      <th>call_button</th>\n      <th>table_games</th>\n      <th>vinotheque</th>\n      <th>cakes_for_different_occasions</th>\n      <th>accepted_credit_cards</th>\n      <th>kalyan</th>\n      <th>teahouse</th>\n      <th>bread_from_tandoor</th>\n      <th>handmade_goods</th>\n      <th>test</th>\n    </tr>\n  </thead>\n  <tbody>\n    <tr>\n      <th>0</th>\n      <td>11946401375069641937</td>\n      <td>4.0</td>\n      <td>677</td>\n      <td>1</td>\n      <td>1</td>\n      <td>3.883212</td>\n      <td>0</td>\n      <td>1</td>\n      <td>1</td>\n      <td>1</td>\n      <td>...</td>\n      <td>0</td>\n      <td>0</td>\n      <td>0</td>\n      <td>0</td>\n      <td>0</td>\n      <td>0</td>\n      <td>0</td>\n      <td>0</td>\n      <td>0</td>\n      <td>-0.038254</td>\n    </tr>\n    <tr>\n      <th>1</th>\n      <td>5545859981678495568</td>\n      <td>5.0</td>\n      <td>577</td>\n      <td>1</td>\n      <td>1</td>\n      <td>4.495379</td>\n      <td>0</td>\n      <td>1</td>\n      <td>0</td>\n      <td>1</td>\n      <td>...</td>\n      <td>0</td>\n      <td>0</td>\n      <td>0</td>\n      <td>0</td>\n      <td>0</td>\n      <td>0</td>\n      <td>0</td>\n      <td>0</td>\n      <td>0</td>\n      <td>0.232432</td>\n    </tr>\n    <tr>\n      <th>2</th>\n      <td>3451485117888180206</td>\n      <td>4.0</td>\n      <td>716</td>\n      <td>1</td>\n      <td>1</td>\n      <td>4.576063</td>\n      <td>1</td>\n      <td>1</td>\n      <td>1</td>\n      <td>1</td>\n      <td>...</td>\n      <td>0</td>\n      <td>0</td>\n      <td>0</td>\n      <td>0</td>\n      <td>0</td>\n      <td>0</td>\n      <td>0</td>\n      <td>0</td>\n      <td>0</td>\n      <td>-0.105691</td>\n    </tr>\n    <tr>\n      <th>3</th>\n      <td>9490041040735762889</td>\n      <td>3.0</td>\n      <td>639</td>\n      <td>0</td>\n      <td>0</td>\n      <td>3.775701</td>\n      <td>1</td>\n      <td>1</td>\n      <td>1</td>\n      <td>1</td>\n      <td>...</td>\n      <td>0</td>\n      <td>0</td>\n      <td>0</td>\n      <td>0</td>\n      <td>0</td>\n      <td>0</td>\n      <td>0</td>\n      <td>0</td>\n      <td>0</td>\n      <td>-0.097261</td>\n    </tr>\n    <tr>\n      <th>4</th>\n      <td>5234254278902729372</td>\n      <td>5.0</td>\n      <td>669</td>\n      <td>1</td>\n      <td>1</td>\n      <td>4.187500</td>\n      <td>10</td>\n      <td>1</td>\n      <td>1</td>\n      <td>1</td>\n      <td>...</td>\n      <td>0</td>\n      <td>0</td>\n      <td>0</td>\n      <td>0</td>\n      <td>0</td>\n      <td>0</td>\n      <td>0</td>\n      <td>0</td>\n      <td>0</td>\n      <td>0.138769</td>\n    </tr>\n    <tr>\n      <th>...</th>\n      <td>...</td>\n      <td>...</td>\n      <td>...</td>\n      <td>...</td>\n      <td>...</td>\n      <td>...</td>\n      <td>...</td>\n      <td>...</td>\n      <td>...</td>\n      <td>...</td>\n      <td>...</td>\n      <td>...</td>\n      <td>...</td>\n      <td>...</td>\n      <td>...</td>\n      <td>...</td>\n      <td>...</td>\n      <td>...</td>\n      <td>...</td>\n      <td>...</td>\n      <td>...</td>\n    </tr>\n    <tr>\n      <th>73990</th>\n      <td>2948132663120061820</td>\n      <td>2.0</td>\n      <td>517</td>\n      <td>1</td>\n      <td>1</td>\n      <td>4.280632</td>\n      <td>7</td>\n      <td>1</td>\n      <td>1</td>\n      <td>0</td>\n      <td>...</td>\n      <td>0</td>\n      <td>0</td>\n      <td>0</td>\n      <td>0</td>\n      <td>0</td>\n      <td>0</td>\n      <td>0</td>\n      <td>0</td>\n      <td>0</td>\n      <td>-0.426018</td>\n    </tr>\n    <tr>\n      <th>73991</th>\n      <td>13225228120465186798</td>\n      <td>5.0</td>\n      <td>455</td>\n      <td>1</td>\n      <td>1</td>\n      <td>4.446033</td>\n      <td>0</td>\n      <td>0</td>\n      <td>0</td>\n      <td>0</td>\n      <td>...</td>\n      <td>0</td>\n      <td>0</td>\n      <td>0</td>\n      <td>0</td>\n      <td>0</td>\n      <td>0</td>\n      <td>0</td>\n      <td>0</td>\n      <td>0</td>\n      <td>0.054472</td>\n    </tr>\n    <tr>\n      <th>73992</th>\n      <td>1135274990644701922</td>\n      <td>5.0</td>\n      <td>1032</td>\n      <td>1</td>\n      <td>1</td>\n      <td>4.420231</td>\n      <td>5</td>\n      <td>1</td>\n      <td>1</td>\n      <td>1</td>\n      <td>...</td>\n      <td>0</td>\n      <td>0</td>\n      <td>0</td>\n      <td>0</td>\n      <td>0</td>\n      <td>0</td>\n      <td>0</td>\n      <td>0</td>\n      <td>0</td>\n      <td>0.335461</td>\n    </tr>\n    <tr>\n      <th>73993</th>\n      <td>2498968754330575170</td>\n      <td>5.0</td>\n      <td>27</td>\n      <td>1</td>\n      <td>1</td>\n      <td>4.694307</td>\n      <td>1</td>\n      <td>0</td>\n      <td>0</td>\n      <td>0</td>\n      <td>...</td>\n      <td>0</td>\n      <td>0</td>\n      <td>0</td>\n      <td>0</td>\n      <td>0</td>\n      <td>0</td>\n      <td>0</td>\n      <td>0</td>\n      <td>0</td>\n      <td>-0.059930</td>\n    </tr>\n    <tr>\n      <th>73994</th>\n      <td>10310753822165626445</td>\n      <td>5.0</td>\n      <td>699</td>\n      <td>0</td>\n      <td>0</td>\n      <td>4.485873</td>\n      <td>1</td>\n      <td>0</td>\n      <td>0</td>\n      <td>0</td>\n      <td>...</td>\n      <td>0</td>\n      <td>0</td>\n      <td>0</td>\n      <td>0</td>\n      <td>0</td>\n      <td>0</td>\n      <td>0</td>\n      <td>0</td>\n      <td>0</td>\n      <td>-0.059930</td>\n    </tr>\n  </tbody>\n</table>\n<p>73995 rows × 64 columns</p>\n</div>"
     },
     "execution_count": 1,
     "metadata": {},
     "output_type": "execute_result"
    }
   ],
   "source": [
    "import pandas as pd\n",
    "import numpy as np\n",
    "from sklearn.neighbors import KNeighborsRegressor\n",
    "from sklearn.metrics import mean_absolute_percentage_error\n",
    "from sklearn.model_selection import train_test_split\n",
    "from sklearn.preprocessing import StandardScaler\n",
    "from sklearn.preprocessing import MinMaxScaler\n",
    "from sklearn.preprocessing import RobustScaler\n",
    "\n",
    "train = pd.read_csv(\"data/raw/Restaurants/train.csv\")\n",
    "test = pd.read_csv(\"data/raw/Restaurants/test_x.csv\")\n",
    "sample = pd.read_csv(\"data/raw/Restaurants/sample_submission.csv\")\n",
    "\n",
    "train[\"test\"] = train[\"rating\"] * (0.9 + train[\"craft_beer\"] * 0.2) * (0.9 + train[\"wi_fi\"] * 0.15) * (0.95 + train[\"special_menu\"] * 0.1) * (0.975 + train[\"car_park\"] * 0.05)\n",
    "train[\"test\"] = (train[\"test\"] - train[\"test\"].mean()) / (train[\"test\"].max() - train[\"test\"].min())\n",
    "test[\"test\"] = test[\"rating\"] * (0.9 + test[\"craft_beer\"] * 0.2) * (0.9 + test[\"wi_fi\"] * 0.15)* (0.95 + test[\"special_menu\"] * 0.1) * (0.975 + test[\"car_park\"] * 0.05)\n",
    "test[\"test\"] = (test[\"test\"] - test[\"test\"].mean()) / (test[\"test\"].max() - test[\"test\"].min())\n",
    "# test[\"test\"]\n",
    "\n",
    "\n",
    "train[\"rubrics\"] = train[\"rubrics\"].map({\n",
    "    \"Ресторан\" : 0,\n",
    "    \"Кафе\" : 1,\n",
    "    \"Кофейня\" : 2,\n",
    "    \"Кондитерская\" : 3,\n",
    "    \"Быстрое питание\" : 4,\n",
    "    \"Бар, паб\" : 5,\n",
    "    \"Кальян-бар\" : 6,\n",
    "    \"Булочная, пекарня\" : 7,\n",
    "    \"Спортбар\" : 8,\n",
    "    \"Столовая\" : 9,\n",
    "    \"Пиццерия\" : 10,\n",
    "    \"Суши-бар\" : 11,\n",
    "    \"Кофе с собой\" : 12,\n",
    "    \"Бар безалкогольных напитков\" : 13\n",
    "})\n",
    "test[\"rubrics\"] = test[\"rubrics\"].map({\n",
    "    \"Ресторан\" : 0,\n",
    "    \"Кафе\" : 1,\n",
    "    \"Кофейня\" : 2,\n",
    "    \"Кондитерская\" : 3,\n",
    "    \"Быстрое питание\" : 4,\n",
    "    \"Бар, паб\" : 5,\n",
    "    \"Кальян-бар\" : 6,\n",
    "    \"Булочная, пекарня\" : 7,\n",
    "    \"Спортбар\" : 8,\n",
    "    \"Столовая\" : 9,\n",
    "    \"Пиццерия\" : 10,\n",
    "    \"Суши-бар\" : 11,\n",
    "    \"Кофе с собой\" : 12,\n",
    "    \"Бар безалкогольных напитков\" : 13\n",
    "})\n",
    "\n",
    "\n",
    "train[\"user_city\"] = train[\"user_city\"].map({\"spb\" : 0,\"msk\" : 1})\n",
    "test[\"user_city\"] = test[\"user_city\"].map({\n",
    "    \"spb\" : 0,\n",
    "    \"msk\" : 1\n",
    "})\n",
    "train[\"org_city\"] = train[\"org_city\"].map({\n",
    "    \"spb\" : 0,\n",
    "    \"msk\" : 1\n",
    "})\n",
    "test[\"org_city\"] = test[\"org_city\"].map({\n",
    "    \"spb\" : 0,\n",
    "    \"msk\" : 1\n",
    "})\n",
    "\n",
    "train.drop(['user_id', \"average_bill\", \"automatic_door\", \"closed_for_quarantine\", \"elevator_wheelchair_accessible\", \"wheelchair_accessible\", \"wheelchair_access\", \"parking_disabled\", \"toilet_for_disabled\"], axis=1, inplace=True)\n",
    "test.drop(['user_id', \"average_bill\", \"automatic_door\", \"closed_for_quarantine\", \"elevator_wheelchair_accessible\", \"wheelchair_accessible\", \"wheelchair_access\", \"parking_disabled\", \"toilet_for_disabled\"], axis=1, inplace=True)\n",
    "# test[\"rubrics\"]\n",
    "train"
   ],
   "metadata": {
    "collapsed": false,
    "pycharm": {
     "name": "#%%\n"
    }
   }
  },
  {
   "cell_type": "code",
   "execution_count": 2,
   "outputs": [
    {
     "name": "stdout",
     "output_type": "stream",
     "text": [
      "<class 'pandas.core.frame.DataFrame'>\n",
      "RangeIndex: 73995 entries, 0 to 73994\n",
      "Data columns (total 64 columns):\n",
      " #   Column                         Non-Null Count  Dtype  \n",
      "---  ------                         --------------  -----  \n",
      " 0   org_id                         73995 non-null  uint64 \n",
      " 1   rating                         73995 non-null  float64\n",
      " 2   ts                             73995 non-null  int64  \n",
      " 3   user_city                      73995 non-null  int64  \n",
      " 4   org_city                       73995 non-null  int64  \n",
      " 5   rating_org                     73995 non-null  float64\n",
      " 6   rubrics                        73995 non-null  int64  \n",
      " 7   food_delivery                  73995 non-null  int64  \n",
      " 8   breakfast                      73995 non-null  int64  \n",
      " 9   takeaway                       73995 non-null  int64  \n",
      " 10  summer_terrace                 73995 non-null  int64  \n",
      " 11  wi_fi                          73995 non-null  int64  \n",
      " 12  business_lunch                 73995 non-null  int64  \n",
      " 13  payment_by_credit_card         73995 non-null  int64  \n",
      " 14  coffee_to_go                   73995 non-null  int64  \n",
      " 15  online_takeaway                73995 non-null  int64  \n",
      " 16  karaoke                        73995 non-null  int64  \n",
      " 17  special_menu                   73995 non-null  int64  \n",
      " 18  sports_broadcasts              73995 non-null  int64  \n",
      " 19  food_court1                    73995 non-null  int64  \n",
      " 20  craft_beer                     73995 non-null  int64  \n",
      " 21  projector                      73995 non-null  int64  \n",
      " 22  gift_certificate               73995 non-null  int64  \n",
      " 23  food_product_delivery          73995 non-null  int64  \n",
      " 24  car_park                       73995 non-null  int64  \n",
      " 25  promotions                     73995 non-null  int64  \n",
      " 26  cafe                           73995 non-null  int64  \n",
      " 27  minimum_order                  73995 non-null  int64  \n",
      " 28  free_delivery                  73995 non-null  int64  \n",
      " 29  self_service_kiosks            73995 non-null  int64  \n",
      " 30  has_restaurant                 73995 non-null  int64  \n",
      " 31  air_conditioning               73995 non-null  int64  \n",
      " 32  pets                           73995 non-null  int64  \n",
      " 33  elevator                       73995 non-null  int64  \n",
      " 34  has_bar                        73995 non-null  int64  \n",
      " 35  internet access                73995 non-null  int64  \n",
      " 36  privilege_tickets              73995 non-null  int64  \n",
      " 37  organic_food                   73995 non-null  int64  \n",
      " 38  vip_zone                       73995 non-null  int64  \n",
      " 39  hall_capacity                  73995 non-null  int64  \n",
      " 40  face_control                   73995 non-null  int64  \n",
      " 41  show_program                   73995 non-null  int64  \n",
      " 42  music                          73995 non-null  int64  \n",
      " 43  chillout                       73995 non-null  int64  \n",
      " 44  dancefloor                     73995 non-null  int64  \n",
      " 45  dress_code                     73995 non-null  int64  \n",
      " 46  billiards                      73995 non-null  int64  \n",
      " 47  strip                          73995 non-null  int64  \n",
      " 48  ramp                           73995 non-null  int64  \n",
      " 49  around_the_clock_work1         73995 non-null  int64  \n",
      " 50  pickup                         73995 non-null  int64  \n",
      " 51  farm_products                  73995 non-null  int64  \n",
      " 52  delivery                       73995 non-null  int64  \n",
      " 53  coffee_shop                    73995 non-null  int64  \n",
      " 54  call_button                    73995 non-null  int64  \n",
      " 55  table_games                    73995 non-null  int64  \n",
      " 56  vinotheque                     73995 non-null  int64  \n",
      " 57  cakes_for_different_occasions  73995 non-null  int64  \n",
      " 58  accepted_credit_cards          73995 non-null  int64  \n",
      " 59  kalyan                         73995 non-null  int64  \n",
      " 60  teahouse                       73995 non-null  int64  \n",
      " 61  bread_from_tandoor             73995 non-null  int64  \n",
      " 62  handmade_goods                 73995 non-null  int64  \n",
      " 63  test                           73995 non-null  float64\n",
      "dtypes: float64(3), int64(60), uint64(1)\n",
      "memory usage: 36.1 MB\n"
     ]
    }
   ],
   "source": [
    "# test[\"org_city\"].unique()\n",
    "# train.isna().sum()\n",
    "# test1\n",
    "train.head()\n",
    "train.info()"
   ],
   "metadata": {
    "collapsed": false,
    "pycharm": {
     "name": "#%%\n"
    }
   }
  },
  {
   "cell_type": "code",
   "execution_count": 3,
   "outputs": [],
   "source": [
    "scaler = StandardScaler()\n",
    "scaler2 = MinMaxScaler()\n",
    "\n",
    "# print(scaler.fit_transform(train[[\"rubrics\"]]))\n",
    "# train[\"org_id\"] = scaler2.fit_transform(train[[\"org_id\"]])\n",
    "# test[\"org_id\"] = scaler2.fit_transform(test[[\"org_id\"]])\n",
    "#\n",
    "# train[\"rubrics\"] = scaler.fit_transform(train[[\"rubrics\"]])\n",
    "# test[\"rubrics\"] = scaler.fit_transform(test[[\"rubrics\"]])\n",
    "\n",
    "# train[\"org_id\"] = scaler.fit_transform(train[\"org_id\"])\n",
    "# test[\"org_id\"] = scaler.fit_transform(test[\"org_id\"])\n",
    "\n"
   ],
   "metadata": {
    "collapsed": false,
    "pycharm": {
     "name": "#%%\n"
    }
   }
  },
  {
   "cell_type": "code",
   "execution_count": 4,
   "outputs": [],
   "source": [
    "\n",
    "def feature_regressor(df, feature, k):\n",
    "\n",
    "    # np.random.seed(1)\n",
    "    # shuffled_index = np.random.permutation(df.index)\n",
    "    # rand_df = df.reindex(shuffled_index)\n",
    "    # x_train, x_test, y_train, y_test = train_test_split(df.drop([\"rating_org\"], axis=1), df[\"rating_org\"], test_size=0.25, random_state=4)\n",
    "    x_train, x_test, y_train, y_test = train_test_split(df[[\"rating\", \"rubrics\", \"org_id\", \"wi_fi\", \"test\", \"org_city\"]], df[\"rating_org\"], test_size=0.25, random_state=4)\n",
    "\n",
    "    # Split the dataset\n",
    "    # train_set = rand_df.iloc[0:int(len(rand_df)/2)]\n",
    "    # test_set = rand_df.iloc[int(len(rand_df)/2):]\n",
    "\n",
    "    # Train\n",
    "    knn = KNeighborsRegressor(n_neighbors=k)\n",
    "    knn.fit(x_train, y_train)\n",
    "    # knn.fit(train_set[[feature]], train_set[\"rating_org\"])\n",
    "\n",
    "\n",
    "    # Predict\n",
    "    # predictions = knn.predict(test_set[[feature]])\n",
    "    predictions = knn.predict(x_test)\n",
    "    # return mean_absolute_percentage_error(test_set[\"rating_org\"], predictions)\n",
    "    return mean_absolute_percentage_error(y_test, predictions)\n",
    "\n"
   ],
   "metadata": {
    "collapsed": false,
    "pycharm": {
     "name": "#%%\n"
    }
   }
  },
  {
   "cell_type": "code",
   "execution_count": 5,
   "outputs": [
    {
     "data": {
      "text/plain": "0.04391528846586088"
     },
     "execution_count": 5,
     "metadata": {},
     "output_type": "execute_result"
    }
   ],
   "source": [
    "feature_regressor(train, \"rating\", 25)"
   ],
   "metadata": {
    "collapsed": false,
    "pycharm": {
     "name": "#%%\n"
    }
   }
  },
  {
   "cell_type": "code",
   "execution_count": 6,
   "outputs": [],
   "source": [
    "# print(27, feature_regressor(train, \"rating\", 500))\n",
    "# print(27, feature_regressor(train, \"rating\", 2500))\n",
    "# print(27, feature_regressor(train, \"rating\", 10000))\n"
   ],
   "metadata": {
    "collapsed": false,
    "pycharm": {
     "name": "#%%\n"
    }
   }
  },
  {
   "cell_type": "code",
   "execution_count": 7,
   "outputs": [
    {
     "name": "stdout",
     "output_type": "stream",
     "text": [
      "0.017452150091277707\n",
      "0.021980983037264906\n",
      "0.024852074499029736\n",
      "0.027428474828210852\n",
      "0.02935599850656689\n",
      "0.031235145957447447\n",
      "0.03266834324520416\n",
      "0.03388124631769941\n",
      "0.034994475991935316\n",
      "0.03603446318324439\n",
      "0.037065510779104374\n",
      "0.03795438518000051\n",
      "0.0386688338321457\n",
      "0.039226578284648234\n",
      "0.03980323018522754\n",
      "0.040383796900624096\n",
      "0.0409616004660244\n",
      "0.04148958410330627\n",
      "0.04199107937230593\n",
      "0.04240878972896726\n",
      "0.04278743983179952\n",
      "0.04311356009967245\n",
      "0.04340374025591899\n",
      "0.043668248371458364\n",
      "0.04391528846586088\n",
      "0.04418998010253196\n",
      "0.044463334546224954\n",
      "0.04471684865656024\n",
      "0.04492018401681466\n",
      "Complete\n"
     ]
    }
   ],
   "source": [
    "\n",
    "features = [\"test\"]\n",
    "\n",
    "res = []\n",
    "for feature in features:\n",
    "    for i in range(1, 30):\n",
    "        err = feature_regressor(train, feature, i)\n",
    "        print(err)\n",
    "        res.append((i, err))\n",
    "    #res.append((500, feature_regressor(train, feature, 500)))\n",
    "    #res.append((1500, feature_regressor(train, feature, 1500)))\n",
    "print(\"Complete\")"
   ],
   "metadata": {
    "collapsed": false,
    "pycharm": {
     "name": "#%%\n"
    }
   }
  },
  {
   "cell_type": "code",
   "execution_count": 8,
   "outputs": [
    {
     "name": "stdout",
     "output_type": "stream",
     "text": [
      "[(1, 0.017452150091277707), (2, 0.021980983037264906), (3, 0.024852074499029736), (4, 0.027428474828210852), (5, 0.02935599850656689), (6, 0.031235145957447447), (7, 0.03266834324520416), (8, 0.03388124631769941), (9, 0.034994475991935316), (10, 0.03603446318324439), (11, 0.037065510779104374), (12, 0.03795438518000051), (13, 0.0386688338321457), (14, 0.039226578284648234), (15, 0.03980323018522754), (16, 0.040383796900624096), (17, 0.0409616004660244), (18, 0.04148958410330627), (19, 0.04199107937230593), (20, 0.04240878972896726), (21, 0.04278743983179952), (22, 0.04311356009967245), (23, 0.04340374025591899), (24, 0.043668248371458364), (25, 0.04391528846586088), (26, 0.04418998010253196), (27, 0.044463334546224954), (28, 0.04471684865656024), (29, 0.04492018401681466)]\n"
     ]
    }
   ],
   "source": [
    "print(sorted(res, key=lambda x: x[1]))"
   ],
   "metadata": {
    "collapsed": false,
    "pycharm": {
     "name": "#%%\n"
    }
   }
  },
  {
   "cell_type": "code",
   "execution_count": 20,
   "outputs": [
    {
     "name": "stdout",
     "output_type": "stream",
     "text": [
      "[4.30302351 4.32932965 4.33827407 ... 4.29213019 4.30949172 4.33359029]\n"
     ]
    }
   ],
   "source": [
    "def get_result(train, test, feature, k):\n",
    "    # np.random.seed(1)\n",
    "    # shuffled_index = np.random.permutation(train.index)\n",
    "    # rand_df = train.reindex(shuffled_index)\n",
    "    # x_train, x_test, y_train, y_test = train_test_split(train.drop([\"rating_org\"], axis=1), train[\"rating_org\"], test_size=0.0, random_state=4)\n",
    "    # x_train, x_test, y_train, y_test = train_test_split(train.drop([\"rating_org\"], axis=1), train[\"rating_org\"], test_size=0.0, random_state=4)\n",
    "    # x_train\n",
    "    # Split the dataset\n",
    "    # train_set = rand_df.iloc[0:int(len(rand_df)/2)]\n",
    "    # test_set = rand_df.iloc[int(len(rand_df)/2):]\n",
    "\n",
    "    # Train\n",
    "    # rand_df.head()\n",
    "    # train_set = rand_df.iloc[:]\n",
    "    # train_set.head()\n",
    "    knn = KNeighborsRegressor(n_neighbors=k)\n",
    "    # train = train.sort_values(by=[\"rubrics\"])\n",
    "    # knn.fit(train[[\"rating\", \"org_id\", \"rubrics\"]], train[\"rating_org\"])\n",
    "    # knn.fit(train[[\"rating\", \"org_id\", \"rubrics\", \"test\"]], train[\"rating_org\"])\n",
    "    knn.fit(train[[\"rating\", \"org_id\", \"rubrics\", \"wi_fi\", \"test\", \"org_city\"]], train[\"rating_org\"])\n",
    "\n",
    "    # knn.fit(train.drop([\"rating_org\"], axis=1), train[\"rating_org\"])\n",
    "    # knn.fit(train_set.drop([\"rating_org\"], axis=1), train_set[\"rating_org\"])\n",
    "    # knn.fit(train_set[[feature]], train_set[\"rating_org\"])\n",
    "\n",
    "\n",
    "    # Predict\n",
    "    # predictions = knn.predict(test_set[[feature]])\n",
    "    # predictions = knn.predict(test[[\"rating\", \"org_id\", \"rubrics\"]])\n",
    "    # predictions = knn.predict(test[[\"rating\", \"org_id\", \"rubrics\", \"test\"]])\n",
    "    predictions = knn.predict(test[[\"rating\", \"org_id\", \"rubrics\", \"wi_fi\", \"test\", \"org_city\"]])\n",
    "    # return mean_absolute_percentage_error(test_set[\"rating_org\"], predictions)\n",
    "    # return mean_absolute_percentage_error(y_test, predictions)\n",
    "    # return []\n",
    "\n",
    "    return predictions\n",
    "\n",
    "predictions = get_result(train, test, \"test\", 10000)\n",
    "print(predictions)"
   ],
   "metadata": {
    "collapsed": false,
    "pycharm": {
     "name": "#%%\n"
    }
   }
  },
  {
   "cell_type": "code",
   "execution_count": 10,
   "outputs": [],
   "source": [
    "# train = train.sort_values(by=[\"rubrics\"])"
   ],
   "metadata": {
    "collapsed": false,
    "pycharm": {
     "name": "#%%\n"
    }
   }
  },
  {
   "cell_type": "code",
   "execution_count": 19,
   "outputs": [
    {
     "name": "stdout",
     "output_type": "stream",
     "text": [
      "saved\n"
     ]
    }
   ],
   "source": [
    "next = np.column_stack((np.arange(0, len(predictions)), predictions))\n",
    "# print(next)\n",
    "out = pd.DataFrame(next, columns=[\"id\", \"rating_org\"])\n",
    "out[\"id\"] = out[\"id\"].astype(int)\n",
    "out.to_csv(\"data/processed/Restaurants/predicts.csv\", index=False)\n",
    "print(\"saved\")"
   ],
   "metadata": {
    "collapsed": false,
    "pycharm": {
     "name": "#%%\n"
    }
   }
  },
  {
   "cell_type": "code",
   "execution_count": 11,
   "outputs": [],
   "source": [],
   "metadata": {
    "collapsed": false,
    "pycharm": {
     "name": "#%%\n"
    }
   }
  },
  {
   "cell_type": "markdown",
   "source": [
    "sort by id org, type\n"
   ],
   "metadata": {
    "collapsed": false,
    "pycharm": {
     "name": "#%% md\n"
    }
   }
  }
 ],
 "metadata": {
  "kernelspec": {
   "display_name": "Python 3",
   "language": "python",
   "name": "python3"
  },
  "language_info": {
   "codemirror_mode": {
    "name": "ipython",
    "version": 2
   },
   "file_extension": ".py",
   "mimetype": "text/x-python",
   "name": "python",
   "nbconvert_exporter": "python",
   "pygments_lexer": "ipython2",
   "version": "2.7.6"
  }
 },
 "nbformat": 4,
 "nbformat_minor": 0
}